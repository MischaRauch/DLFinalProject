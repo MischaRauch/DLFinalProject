{
 "cells": [
  {
   "cell_type": "code",
   "execution_count": 16,
   "id": "3bd3663d-b932-4a2f-91a6-a5f2bf630d1b",
   "metadata": {
    "execution": {
     "iopub.execute_input": "2022-10-25T10:50:52.582406Z",
     "iopub.status.busy": "2022-10-25T10:50:52.581779Z",
     "iopub.status.idle": "2022-10-25T10:50:52.601249Z",
     "shell.execute_reply": "2022-10-25T10:50:52.600398Z",
     "shell.execute_reply.started": "2022-10-25T10:50:52.582375Z"
    }
   },
   "outputs": [],
   "source": [
    "# Imports here\n",
    "%matplotlib inline\n",
    "%config InlineBackend.figure_format = 'retina'\n",
    "\n",
    "import matplotlib.pyplot as plt\n",
    "\n",
    "# Import \n",
    "import json\n",
    "import os\n",
    "from collections import OrderedDict\n",
    "import pandas as pd\n",
    "import random\n",
    "import torch\n",
    "import torchvision\n",
    "from torch import nn\n",
    "from torchvision import transforms, models\n",
    "from torchvision.datasets import ImageFolder"
   ]
  },
  {
   "cell_type": "code",
   "execution_count": 2,
   "id": "7979a36f-764e-4c2a-8a3c-8cf0369e90b2",
   "metadata": {
    "execution": {
     "iopub.execute_input": "2022-10-25T10:23:01.120335Z",
     "iopub.status.busy": "2022-10-25T10:23:01.119796Z",
     "iopub.status.idle": "2022-10-25T10:23:01.128194Z",
     "shell.execute_reply": "2022-10-25T10:23:01.126756Z",
     "shell.execute_reply.started": "2022-10-25T10:23:01.120307Z"
    }
   },
   "outputs": [],
   "source": [
    "data_dir = '/notebooks/flowers'\n",
    "train_dir = data_dir + '/train'\n",
    "valid_dir = data_dir + '/valid'\n",
    "test_dir = data_dir + '/test'\n",
    "#!unzip /flowers.zip"
   ]
  },
  {
   "cell_type": "code",
   "execution_count": 4,
   "id": "80b14154-b43a-4503-a23c-aa5abeb39a11",
   "metadata": {
    "execution": {
     "iopub.execute_input": "2022-10-25T10:24:23.175191Z",
     "iopub.status.busy": "2022-10-25T10:24:23.174273Z",
     "iopub.status.idle": "2022-10-25T10:24:24.792943Z",
     "shell.execute_reply": "2022-10-25T10:24:24.791984Z",
     "shell.execute_reply.started": "2022-10-25T10:24:23.175152Z"
    }
   },
   "outputs": [],
   "source": [
    "# TODO: Define your transforms for the training, validation, and testing sets\n",
    "#data_transforms =\n",
    "train_dir_transforms = transforms.Compose([transforms.RandomResizedCrop(224), # before all 225 ##256\n",
    "                                           transforms.RandomHorizontalFlip(),\n",
    "                                           transforms.ToTensor(),\n",
    "                                           transforms.Normalize([0.485, 0.456, 0.406],\n",
    "                                                                [0.229, 0.224, 0.225])])\n",
    "valid_dir_transforms = transforms.Compose([transforms.Resize(224),\n",
    "                                           transforms.CenterCrop(224),\n",
    "                                           transforms.ToTensor(),\n",
    "                                           transforms.Normalize([0.485, 0.456, 0.406],\n",
    "                                                                [0.229, 0.224, 0.225])])\n",
    "test_dir_transforms = transforms.Compose([transforms.Resize(224),\n",
    "                                          transforms.CenterCrop(224),\n",
    "                                          transforms.ToTensor(),\n",
    "                                          transforms.Normalize([0.485, 0.456, 0.406],\n",
    "                                                               [0.229, 0.224, 0.225])])\n",
    "\n",
    "# TODO: Load the datasets with ImageFolder\n",
    "#image_datasets = \n",
    "train_data = ImageFolder(train_dir, train_dir_transforms)\n",
    "valid_set = ImageFolder(valid_dir, valid_dir_transforms)\n",
    "test_set = ImageFolder(test_dir, test_dir_transforms)\n",
    "\n",
    "# TODO: Using the image datasets and the trainforms, define the dataloaders\n",
    "#dataloaders = \n",
    "trainloader = torch.utils.data.DataLoader(train_data, batch_size =64, shuffle=True)\n",
    "valid_data = torch.utils.data.DataLoader(valid_set, batch_size=64)\n",
    "test_data = torch.utils.data.DataLoader(test_set, batch_size=64)"
   ]
  },
  {
   "cell_type": "code",
   "execution_count": 6,
   "id": "b568db6d-de68-42f0-a4b0-1092fc43c2e4",
   "metadata": {
    "execution": {
     "iopub.execute_input": "2022-10-25T10:24:55.414321Z",
     "iopub.status.busy": "2022-10-25T10:24:55.413950Z",
     "iopub.status.idle": "2022-10-25T10:24:55.423321Z",
     "shell.execute_reply": "2022-10-25T10:24:55.422175Z",
     "shell.execute_reply.started": "2022-10-25T10:24:55.414321Z"
    }
   },
   "outputs": [],
   "source": [
    "with open('DLFinalProject/cat_to_name.json', 'r') as f:\n",
    "    cat_to_name = json.load(f)"
   ]
  },
  {
   "cell_type": "code",
   "execution_count": 12,
   "id": "36930fa2-70f4-488e-8e02-58572d0947c0",
   "metadata": {
    "execution": {
     "iopub.execute_input": "2022-10-25T10:32:51.005514Z",
     "iopub.status.busy": "2022-10-25T10:32:51.005153Z",
     "iopub.status.idle": "2022-10-25T10:32:52.902284Z",
     "shell.execute_reply": "2022-10-25T10:32:52.901382Z",
     "shell.execute_reply.started": "2022-10-25T10:32:51.005488Z"
    }
   },
   "outputs": [
    {
     "data": {
      "text/plain": [
       "VGG(\n",
       "  (features): Sequential(\n",
       "    (0): Conv2d(3, 64, kernel_size=(3, 3), stride=(1, 1), padding=(1, 1))\n",
       "    (1): ReLU(inplace=True)\n",
       "    (2): Conv2d(64, 64, kernel_size=(3, 3), stride=(1, 1), padding=(1, 1))\n",
       "    (3): ReLU(inplace=True)\n",
       "    (4): MaxPool2d(kernel_size=2, stride=2, padding=0, dilation=1, ceil_mode=False)\n",
       "    (5): Conv2d(64, 128, kernel_size=(3, 3), stride=(1, 1), padding=(1, 1))\n",
       "    (6): ReLU(inplace=True)\n",
       "    (7): Conv2d(128, 128, kernel_size=(3, 3), stride=(1, 1), padding=(1, 1))\n",
       "    (8): ReLU(inplace=True)\n",
       "    (9): MaxPool2d(kernel_size=2, stride=2, padding=0, dilation=1, ceil_mode=False)\n",
       "    (10): Conv2d(128, 256, kernel_size=(3, 3), stride=(1, 1), padding=(1, 1))\n",
       "    (11): ReLU(inplace=True)\n",
       "    (12): Conv2d(256, 256, kernel_size=(3, 3), stride=(1, 1), padding=(1, 1))\n",
       "    (13): ReLU(inplace=True)\n",
       "    (14): Conv2d(256, 256, kernel_size=(3, 3), stride=(1, 1), padding=(1, 1))\n",
       "    (15): ReLU(inplace=True)\n",
       "    (16): MaxPool2d(kernel_size=2, stride=2, padding=0, dilation=1, ceil_mode=False)\n",
       "    (17): Conv2d(256, 512, kernel_size=(3, 3), stride=(1, 1), padding=(1, 1))\n",
       "    (18): ReLU(inplace=True)\n",
       "    (19): Conv2d(512, 512, kernel_size=(3, 3), stride=(1, 1), padding=(1, 1))\n",
       "    (20): ReLU(inplace=True)\n",
       "    (21): Conv2d(512, 512, kernel_size=(3, 3), stride=(1, 1), padding=(1, 1))\n",
       "    (22): ReLU(inplace=True)\n",
       "    (23): MaxPool2d(kernel_size=2, stride=2, padding=0, dilation=1, ceil_mode=False)\n",
       "    (24): Conv2d(512, 512, kernel_size=(3, 3), stride=(1, 1), padding=(1, 1))\n",
       "    (25): ReLU(inplace=True)\n",
       "    (26): Conv2d(512, 512, kernel_size=(3, 3), stride=(1, 1), padding=(1, 1))\n",
       "    (27): ReLU(inplace=True)\n",
       "    (28): Conv2d(512, 512, kernel_size=(3, 3), stride=(1, 1), padding=(1, 1))\n",
       "    (29): ReLU(inplace=True)\n",
       "    (30): MaxPool2d(kernel_size=2, stride=2, padding=0, dilation=1, ceil_mode=False)\n",
       "  )\n",
       "  (avgpool): AdaptiveAvgPool2d(output_size=(7, 7))\n",
       "  (classifier): Sequential(\n",
       "    (0): Linear(in_features=25088, out_features=4096, bias=True)\n",
       "    (1): ReLU(inplace=True)\n",
       "    (2): Dropout(p=0.5, inplace=False)\n",
       "    (3): Linear(in_features=4096, out_features=4096, bias=True)\n",
       "    (4): ReLU(inplace=True)\n",
       "    (5): Dropout(p=0.5, inplace=False)\n",
       "    (6): Linear(in_features=4096, out_features=1000, bias=True)\n",
       "  )\n",
       ")"
      ]
     },
     "execution_count": 12,
     "metadata": {},
     "output_type": "execute_result"
    }
   ],
   "source": [
    "# TODO: Build and train your network\n",
    "model = models.vgg16(weights='DEFAULT')\n",
    "model"
   ]
  },
  {
   "cell_type": "code",
   "execution_count": 17,
   "id": "fd15d76c-b7c1-4563-b9e2-546792222a4f",
   "metadata": {
    "execution": {
     "iopub.execute_input": "2022-10-25T10:50:59.490757Z",
     "iopub.status.busy": "2022-10-25T10:50:59.490372Z",
     "iopub.status.idle": "2022-10-25T10:50:59.597387Z",
     "shell.execute_reply": "2022-10-25T10:50:59.595972Z",
     "shell.execute_reply.started": "2022-10-25T10:50:59.490725Z"
    }
   },
   "outputs": [
    {
     "name": "stdout",
     "output_type": "stream",
     "text": [
      "VGG(\n",
      "  (features): Sequential(\n",
      "    (0): Conv2d(3, 64, kernel_size=(3, 3), stride=(1, 1), padding=(1, 1))\n",
      "    (1): ReLU(inplace=True)\n",
      "    (2): Conv2d(64, 64, kernel_size=(3, 3), stride=(1, 1), padding=(1, 1))\n",
      "    (3): ReLU(inplace=True)\n",
      "    (4): MaxPool2d(kernel_size=2, stride=2, padding=0, dilation=1, ceil_mode=False)\n",
      "    (5): Conv2d(64, 128, kernel_size=(3, 3), stride=(1, 1), padding=(1, 1))\n",
      "    (6): ReLU(inplace=True)\n",
      "    (7): Conv2d(128, 128, kernel_size=(3, 3), stride=(1, 1), padding=(1, 1))\n",
      "    (8): ReLU(inplace=True)\n",
      "    (9): MaxPool2d(kernel_size=2, stride=2, padding=0, dilation=1, ceil_mode=False)\n",
      "    (10): Conv2d(128, 256, kernel_size=(3, 3), stride=(1, 1), padding=(1, 1))\n",
      "    (11): ReLU(inplace=True)\n",
      "    (12): Conv2d(256, 256, kernel_size=(3, 3), stride=(1, 1), padding=(1, 1))\n",
      "    (13): ReLU(inplace=True)\n",
      "    (14): Conv2d(256, 256, kernel_size=(3, 3), stride=(1, 1), padding=(1, 1))\n",
      "    (15): ReLU(inplace=True)\n",
      "    (16): MaxPool2d(kernel_size=2, stride=2, padding=0, dilation=1, ceil_mode=False)\n",
      "    (17): Conv2d(256, 512, kernel_size=(3, 3), stride=(1, 1), padding=(1, 1))\n",
      "    (18): ReLU(inplace=True)\n",
      "    (19): Conv2d(512, 512, kernel_size=(3, 3), stride=(1, 1), padding=(1, 1))\n",
      "    (20): ReLU(inplace=True)\n",
      "    (21): Conv2d(512, 512, kernel_size=(3, 3), stride=(1, 1), padding=(1, 1))\n",
      "    (22): ReLU(inplace=True)\n",
      "    (23): MaxPool2d(kernel_size=2, stride=2, padding=0, dilation=1, ceil_mode=False)\n",
      "    (24): Conv2d(512, 512, kernel_size=(3, 3), stride=(1, 1), padding=(1, 1))\n",
      "    (25): ReLU(inplace=True)\n",
      "    (26): Conv2d(512, 512, kernel_size=(3, 3), stride=(1, 1), padding=(1, 1))\n",
      "    (27): ReLU(inplace=True)\n",
      "    (28): Conv2d(512, 512, kernel_size=(3, 3), stride=(1, 1), padding=(1, 1))\n",
      "    (29): ReLU(inplace=True)\n",
      "    (30): MaxPool2d(kernel_size=2, stride=2, padding=0, dilation=1, ceil_mode=False)\n",
      "  )\n",
      "  (avgpool): AdaptiveAvgPool2d(output_size=(7, 7))\n",
      "  (classifier): Sequential(\n",
      "    (fc1): Linear(in_features=25088, out_features=320, bias=True)\n",
      "    (relu): ReLU()\n",
      "    (dropout): Dropout(p=0.5, inplace=False)\n",
      "    (fc2): Linear(in_features=320, out_features=300, bias=True)\n",
      "    (fc3): Linear(in_features=300, out_features=102, bias=True)\n",
      "    (output): LogSoftmax(dim=1)\n",
      "  )\n",
      ")\n"
     ]
    }
   ],
   "source": [
    "#freeze parameters\n",
    "for param in model.parameters():\n",
    "    param.requires_grad = False \n",
    "\n",
    "#new classifier for the feedforward\n",
    "classifier = nn.Sequential(OrderedDict([\n",
    "                            ('fc1', nn.Linear(25088, 320)), #4608,320\n",
    "                            ('relu', nn.ReLU()),\n",
    "                            ('dropout', nn.Dropout(0.5)),\n",
    "                            ('fc2', nn.Linear(320, 300)), #320,300\n",
    "                            ('relu', nn.ReLU()),\n",
    "                            ('dropout', nn.Dropout(0.5)),\n",
    "                            ('fc3', nn.Linear(300, 102)), #300,102\n",
    "                            ('output', nn.LogSoftmax(dim=1))\n",
    "                            ]))\n",
    "model.classifier = classifier\n",
    "print(model)\n"
   ]
  },
  {
   "cell_type": "code",
   "execution_count": 32,
   "id": "1da039b8-b3c2-42e4-860b-8fdbb9424ba5",
   "metadata": {
    "execution": {
     "iopub.execute_input": "2022-10-25T11:57:03.536871Z",
     "iopub.status.busy": "2022-10-25T11:57:03.536025Z",
     "iopub.status.idle": "2022-10-25T11:57:03.546524Z",
     "shell.execute_reply": "2022-10-25T11:57:03.544903Z",
     "shell.execute_reply.started": "2022-10-25T11:57:03.536826Z"
    }
   },
   "outputs": [],
   "source": [
    "def validation(model, valid_data, criterion):\n",
    "    test_loss = 0\n",
    "    accuracy = 0\n",
    "    for images, labels in valid_data:\n",
    "        \n",
    "        images,labels = images.to('cuda'), labels.to('cuda')\n",
    "        \n",
    "        output = model.forward(images)\n",
    "        batch_loss = criterion(output, labels)\n",
    "        test_loss += batch_loss.item()\n",
    "        \n",
    "        ps = torch.exp(output)\n",
    "        equality = (labels.data == ps.max(dim=1)[1])\n",
    "        accuracy += equality.type(torch.FloatTensor).mean()\n",
    "    \n",
    "    return test_loss, accuracy"
   ]
  },
  {
   "cell_type": "code",
   "execution_count": null,
   "id": "6ad9aea2-81ef-4baa-bc1d-a4c4ad19aa6d",
   "metadata": {
    "execution": {
     "iopub.execute_input": "2022-10-25T14:18:22.841434Z",
     "iopub.status.busy": "2022-10-25T14:18:22.841082Z"
    }
   },
   "outputs": [
    {
     "name": "stdout",
     "output_type": "stream",
     "text": [
      "Epoch: 1/12... Loss: 0.3875 Train Loss: 0.276..  Train Accuracy: 0.938\n",
      "Epoch: 2/12... Loss: 0.2366 Train Loss: 0.276..  Train Accuracy: 0.937\n",
      "Epoch: 3/12... Loss: 0.5632 Train Loss: 0.275..  Train Accuracy: 0.937\n",
      "Epoch: 4/12... Loss: 0.4737 Train Loss: 0.274..  Train Accuracy: 0.936\n",
      "Epoch: 5/12... Loss: 0.6502 Train Loss: 0.273..  Train Accuracy: 0.938\n",
      "Epoch: 6/12... Loss: 0.6194 Train Loss: 0.273..  Train Accuracy: 0.937\n",
      "Epoch: 7/12... Loss: 0.5288 Train Loss: 0.272..  Train Accuracy: 0.940\n",
      "Epoch: 8/12... Loss: 0.5659 Train Loss: 0.272..  Train Accuracy: 0.938\n",
      "Epoch: 9/12... Loss: 1.1216 Train Loss: 0.273..  Train Accuracy: 0.939\n",
      "Epoch: 10/12... Loss: 0.5795 Train Loss: 0.272..  Train Accuracy: 0.937\n"
     ]
    }
   ],
   "source": [
    "optimizer = torch.optim.Adam(model.parameters(), lr=0.000005)\n",
    "criterion = nn.functional.nll_loss\n",
    "epochs = 12\n",
    "#running_loss = 0\n",
    "model.to('cuda')\n",
    "for epoch in range(epochs):\n",
    "  model.train()\n",
    "  counter = 0\n",
    "  for data in trainloader:\n",
    "    X , y= data\n",
    "    X , y = X.to('cuda'), y.to('cuda')\n",
    "    optimizer.zero_grad() # clear gradient information.\n",
    "    #output = model(X) <- gives errors\n",
    "    output = model.forward(X)\n",
    "    loss = criterion(output, y)\n",
    "    loss.backward() # do pack-propagation step\n",
    "    optimizer.step() # tell optimizer that you finished batch/iteration.\n",
    "    counter += 1\n",
    "    #running_loss += loss.item()\n",
    " \n",
    " \n",
    "  # network in eval mode for inference\n",
    "  model.eval()\n",
    "            \n",
    "  # Turn off gradients for validation, saves memory and computations\n",
    "  with torch.no_grad():\n",
    "      test_loss, accuracy = validation(model, valid_data, criterion)\n",
    "  print(\"Epoch: {}/{}...\".format(epoch+1,epochs),\n",
    "        \"Loss: {:.4f}\".format(loss.data),\n",
    "        \"Train Loss: {:.3f}.. \".format(test_loss/len(valid_data)),\n",
    "        \"Train Accuracy: {:.3f}\".format(accuracy/len(valid_data)))\n",
    "  running_loss = 0\n",
    "  model.train()"
   ]
  },
  {
   "cell_type": "code",
   "execution_count": 21,
   "id": "8451141f-e52f-4223-b3cf-123080aff333",
   "metadata": {
    "execution": {
     "iopub.execute_input": "2022-10-24T17:21:06.538420Z",
     "iopub.status.busy": "2022-10-24T17:21:06.537909Z",
     "iopub.status.idle": "2022-10-24T17:23:12.317770Z",
     "shell.execute_reply": "2022-10-24T17:23:12.316551Z",
     "shell.execute_reply.started": "2022-10-24T17:21:06.538378Z"
    }
   },
   "outputs": [
    {
     "name": "stdout",
     "output_type": "stream",
     "text": [
      "Accuracy of the network on the test_data set: 85 %\n"
     ]
    }
   ],
   "source": [
    "correct = 0\n",
    "total = 0\n",
    "with torch.no_grad():\n",
    "    for images,labels in test_data:\n",
    "        model.to('cpu')\n",
    "        #images, labels = data\n",
    "        outputs = model(images)\n",
    "        _, predicted = torch.max(outputs.data, 1)\n",
    "        total += labels.size(0)\n",
    "        correct += (predicted == labels).sum().item()\n",
    "\n",
    "print('Accuracy of the network on the test_data set: %d %%' % (100 * correct / total))"
   ]
  },
  {
   "cell_type": "code",
   "execution_count": 46,
   "id": "8769571a-2733-4181-8c94-aa03dea1195a",
   "metadata": {
    "execution": {
     "iopub.execute_input": "2022-10-25T13:18:52.670024Z",
     "iopub.status.busy": "2022-10-25T13:18:52.669665Z",
     "iopub.status.idle": "2022-10-25T13:19:12.876098Z",
     "shell.execute_reply": "2022-10-25T13:19:12.875311Z",
     "shell.execute_reply.started": "2022-10-25T13:18:52.669998Z"
    }
   },
   "outputs": [
    {
     "name": "stdout",
     "output_type": "stream",
     "text": [
      "Accuracy: 0.902\n"
     ]
    }
   ],
   "source": [
    "# Evaluate the trained network.\n",
    "total = 0\n",
    "correct = 0\n",
    "with torch.no_grad():   # No need for keepnig track of necessary changes to the gradient.\n",
    "  for X,y in test_data:\n",
    "    X , y = X.to('cuda'), y.to('cuda')\n",
    "    output = model(X)\n",
    "    for idx, val in enumerate(output):\n",
    "      if torch.argmax(val) == y[idx]:\n",
    "        correct += 1\n",
    "      total += 1\n",
    "  print('Accuracy:', round(correct/total, 3))"
   ]
  },
  {
   "cell_type": "code",
   "execution_count": 47,
   "id": "84709db8-b6b6-4180-baab-d1aa74097eb6",
   "metadata": {
    "execution": {
     "iopub.execute_input": "2022-10-25T13:19:36.761439Z",
     "iopub.status.busy": "2022-10-25T13:19:36.759828Z",
     "iopub.status.idle": "2022-10-25T13:19:37.554826Z",
     "shell.execute_reply": "2022-10-25T13:19:37.553924Z",
     "shell.execute_reply.started": "2022-10-25T13:19:36.761228Z"
    }
   },
   "outputs": [],
   "source": [
    "torch.save(model,'checkpoint_902.pth')"
   ]
  }
 ],
 "metadata": {
  "kernelspec": {
   "display_name": "Python 3 (ipykernel)",
   "language": "python",
   "name": "python3"
  },
  "language_info": {
   "codemirror_mode": {
    "name": "ipython",
    "version": 3
   },
   "file_extension": ".py",
   "mimetype": "text/x-python",
   "name": "python",
   "nbconvert_exporter": "python",
   "pygments_lexer": "ipython3",
   "version": "3.9.13"
  }
 },
 "nbformat": 4,
 "nbformat_minor": 5
}
